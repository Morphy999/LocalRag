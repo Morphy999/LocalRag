{
 "cells": [
  {
   "cell_type": "code",
   "execution_count": null,
   "id": "be5886f8",
   "metadata": {},
   "outputs": [
    {
     "name": "stdout",
     "output_type": "stream",
     "text": [
      "{'answer': 'RAG (Relatórios de Atividade Geral) é um conceito importante na Inteligência Artificial (IA), especialmente na área de processamento de linguagem natural (NLP) e machine learning.\\n\\nEm resumo, RAG são relatórios que fornecem informações sobre a atividade geral do modelo de aprendizado automático, ajudando os desenvolvedores a entender melhor como o modelo está se comportando e qualificá-lo para uso em aplicações reais.\\n\\nOs RAG podem incluir informações como:\\n\\n1. **Taxa de erro**: A proporção de casos corretamente classificados pelo modelo.\\n2. **Precisão**: A proporção de casos que o modelo correctamente classificou como positivos (se for um modelo de aprendizado supervisionado).\\n3. **F1-score** (ou F-measure): A média aritmética da precisão e da taxa de recuperação do modelo.\\n4. **Acurácia**: A proporção de casos que o modelo correctamente classificou em relação ao total de casos testados.\\n5. **Loss function value**: O valor da função de perda do modelo, que indica quão bem o modelo está se ajustando ao treinamento.\\n6. **Training time**: O tempo gasto pelo modelo para ser treinado.\\n7. **Validation score**: A performance do modelo durante o processo de validação (ou test drive).\\n8. **Hyperparameter tuning results**: Os resultados da otimização dos parâmetros hiper do modelo.\\n\\nOs RAG são essenciais porque permitem que os desenvolvedores:\\n\\n1. Avaliem a performance do modelo e identifiquem áreas para melhoria.\\n2. Comparar diferentes modelos e escolher o melhor para uma aplicação específica.\\n3. Monitorar a evolução da performance do modelo ao longo do tempo, permitindo ajustes e otimizações subsequentes.\\n\\nAlém disso, os RAG podem ajudar a identificar problemas de desempenho, como:\\n\\n1. Bias: O modelo está se comportando de maneira discriminatória ou tendenciosa.\\n2. Overfitting: O modelo está se ajustando demasiado bem aos dados de treinamento e não é capaz de generalizar bem para novos casos.\\n\\nEm resumo, os RAG são uma ferramenta valiosa para avaliar a performance e otimizar o desempenho dos modelos de aprendizado automático em IA.'}\n"
     ]
    }
   ],
   "source": [
    "import requests\n",
    "\n",
    "url = \"http://127.0.0.1:8000/ask_ollama3\"\n",
    "prompt = {\"prompt\": \"Explique o que é RAG em IA\"}\n",
    "\n",
    "response = requests.post(url, json=prompt)\n",
    "print(response.json())"
   ]
  }
 ],
 "metadata": {
  "kernelspec": {
   "display_name": "rag_env",
   "language": "python",
   "name": "python3"
  },
  "language_info": {
   "codemirror_mode": {
    "name": "ipython",
    "version": 3
   },
   "file_extension": ".py",
   "mimetype": "text/x-python",
   "name": "python",
   "nbconvert_exporter": "python",
   "pygments_lexer": "ipython3",
   "version": "3.11.13"
  }
 },
 "nbformat": 4,
 "nbformat_minor": 5
}
