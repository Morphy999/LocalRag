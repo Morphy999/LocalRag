{
 "cells": [
  {
   "cell_type": "code",
   "execution_count": null,
   "id": "be5886f8",
   "metadata": {},
   "outputs": [
    {
     "name": "stdout",
     "output_type": "stream",
     "text": [
      "{'answer': 'RAG (Recurrent Autoencoder with Generative Adversarial Networks) é um modelo de aprendizado profundo que combina técnicas de autoencoderação e rede neural adversarial para realizar aprendizado não supervisado em dados complexos.\\n\\nA parte fundamental do modelo RAG é a autoencoderação, que consiste em uma rede neural que codifica os dados de entrada em um espaço latente (dimensionalidade baixa) e posteriormente decodifica esse espaço latente para produzir uma representação reconstruída dos dados originais. A perda da autoencoderação é minimizada durante o treinamento, o que permite ao modelo aprender a capturar as características mais importantes dos dados.\\n\\nA parte secundária do modelo RAG é a rede neural adversarial, que tem como objetivo perturbar a distribuição de dados gerada pela autoencoderação. A rede adversarial tenta produzir exemplos falsos (fake) que sejam semelhantes aos dados reais, enquanto a autoencoderação tenta reconstruir os dados originais. Esse conflito entre as duas redes ajuda a melhorar a qualidade da representação gerada pela autoencoderação.\\n\\nDurante o treinamento do modelo RAG, a perda da rede adversarial é minimizada, o que força a autoencoderação a se tornar cada vez mais precisa e robusta. Isso permite ao modelo aprender a capturar as características mais importantes dos dados de uma forma mais eficaz.\\n\\nAlguns benefícios do modelo RAG incluem:\\n\\n1. Aprendizado não supervisado: O modelo RAG pode aprender a partir de grandes conjuntos de dados sem rótulos, o que é útil quando não há dados rotulados disponíveis.\\n2. Representação compacta: A autoencoderação permite ao modelo capturar as características mais importantes dos dados em um espaço latente dimensionalmente baixo, o que facilita a análise e visualização dos resultados.\\n3. Robustez: A rede adversarial ajuda a melhorar a robustez do modelo à presença de ruído ou outliers nos dados.\\n\\nO modelo RAG tem várias aplicações em áreas como:\\n\\n1. Visão computacional: O modelo pode ser usado para aprender características visuais não supervisionadas, como por exemplo, classificar imagens sem usar rotulos.\\n2. Análise de texto: O modelo pode ser utilizado para aprender representações de textos não supervisionadas, o que é útil em tarefas como sentiment analysis e topic modeling.\\n3. Aprendizado automático: O modelo RAG pode ser usado para aprender a partir de dados complexos e gerar novas informações a partir dos dados de entrada.\\n\\nEm resumo, o modelo RAG é um modelo de aprendizado profundo que combina técnicas de autoencoderação e rede neural adversarial para realizar aprendizado não supervisado em dados complexos.'}\n"
     ]
    }
   ],
   "source": [
    "import requests\n",
    "\n",
    "url = \"http://127.0.0.1:8000/ask_ollama3\"\n",
    "prompt = {\"prompt\": \"Explique o que é RAG em IA\"}\n",
    "\n",
    "response = requests.post(url, json=prompt)\n",
    "print(response.json())"
   ]
  },
  {
   "cell_type": "code",
   "execution_count": 1,
   "id": "f8d1c014",
   "metadata": {},
   "outputs": [
    {
     "name": "stdout",
     "output_type": "stream",
     "text": [
      "{'answer': 'Uma pergunta perfeita para um assistente especializado como eu!\\n\\nRAG (Retrieval-Augmented Generation) é uma técnica de Intelligença Artificial (IA) que combina modelos de recuperação de informação com modelos de geração de linguagem. Essa abordagem permite que um modelo de linguagem consulte documentos externos para melhorar a precisão das respostas.\\n\\nNa prática, o RAG trabalha da seguinte maneira: quando um modelo é solicitado a gerar uma resposta, ele primeiro consulta uma base de dados externa (ou seja, um banco de dados) para recuperar informações relevantes sobre o tópico ou questão em questão. Essas informações são então usadas para gerar uma resposta mais precisa e contextualizada.\\n\\nA combinação dos modelos de recuperação de informação com os modelos de geração de linguagem é fundamental para o sucesso do RAG. Isso permite que o modelo combine a sua habilidade natural de entender linguagem humana com a capacidade de buscar informações relevantes em um banco de dados, tornando as respostas mais precisas e confiáveis.\\n\\nA biblioteca FAISS (Facebook AI Similarity Search) é frequentemente usada para armazenar embeddings (ou vetores numéricos) que representam textos e realizar consultas rápidas. Isso permite que os modelos de recuperação de informação busquem rapidamente informações relevantes em um banco de dados.\\n\\nO RAG tem aplicações práticas em vários domínios, incluindo o jurídico, médico e científico, onde a precisão das informações é fundamental. Além disso, essa abordagem pode ser aplicada a outras áreas, como a geração de conteúdo personalizado ou a resolução de problemas complexos.'}\n"
     ]
    }
   ],
   "source": [
    "import requests\n",
    "\n",
    "url = \"http://127.0.0.1:8000/ask_with_rag\"\n",
    "prompt = {\"prompt\": \"Explique o que é RAG em IA\"}\n",
    "\n",
    "response = requests.post(url, json=prompt)\n",
    "print(response.json())"
   ]
  }
 ],
 "metadata": {
  "kernelspec": {
   "display_name": "rag_env",
   "language": "python",
   "name": "python3"
  },
  "language_info": {
   "codemirror_mode": {
    "name": "ipython",
    "version": 3
   },
   "file_extension": ".py",
   "mimetype": "text/x-python",
   "name": "python",
   "nbconvert_exporter": "python",
   "pygments_lexer": "ipython3",
   "version": "3.11.13"
  }
 },
 "nbformat": 4,
 "nbformat_minor": 5
}
